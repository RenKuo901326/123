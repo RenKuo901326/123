{
  "nbformat": 4,
  "nbformat_minor": 0,
  "metadata": {
    "colab": {
      "provenance": [],
      "mount_file_id": "1bzeBSXduTDDxNtuHDmVqvFL7SUCui02s",
      "authorship_tag": "ABX9TyOj16NN1KNgg8MOhp5ufTaf",
      "include_colab_link": true
    },
    "kernelspec": {
      "name": "python3",
      "display_name": "Python 3"
    },
    "language_info": {
      "name": "python"
    }
  },
  "cells": [
    {
      "cell_type": "markdown",
      "metadata": {
        "id": "view-in-github",
        "colab_type": "text"
      },
      "source": [
        "<a href=\"https://colab.research.google.com/github/RenKuo901326/123/blob/master/test0315.ipynb\" target=\"_parent\"><img src=\"https://colab.research.google.com/assets/colab-badge.svg\" alt=\"Open In Colab\"/></a>"
      ]
    },
    {
      "cell_type": "markdown",
      "source": [
        "$ Area = \\frac{1}{2+x}π(R^2)  $"
      ],
      "metadata": {
        "id": "SIq3MGoWI_-Q"
      }
    },
    {
      "cell_type": "code",
      "execution_count": null,
      "metadata": {
        "id": "WaiO8WduIgsR"
      },
      "outputs": [],
      "source": []
    }
  ]
}